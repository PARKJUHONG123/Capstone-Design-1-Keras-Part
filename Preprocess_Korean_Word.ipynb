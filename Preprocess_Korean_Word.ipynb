{
 "cells": [
  {
   "cell_type": "code",
   "execution_count": 2,
   "metadata": {},
   "outputs": [],
   "source": [
    "import math, sys\n",
    "from konlpy.tag import Twitter\n",
    "import json\n",
    "\n",
    "def split(self, text):\n",
    "    results = []\n",
    "    twitter = Twitter()    \n",
    "    malist = twitter.pos(text, norm=True, stem=True)\n",
    "        \n",
    "    for word in malist:\n",
    "        if not word[1] in [\"Josa\", \"Eomi\", \"Punctuation\", \"Foreign\", \"Number\", \"Alpha\"]:\n",
    "            results.append(word[0])\n",
    "    return results"
   ]
  },
  {
   "cell_type": "code",
   "execution_count": 3,
   "metadata": {},
   "outputs": [],
   "source": [
    "def split_p(text):\n",
    "    results = []\n",
    "    twitter = Twitter()\n",
    "    malist = twitter.pos(text, norm=True, stem=True)\n",
    "    for word in malist:\n",
    "        if not word[1] in [\"Punctuation\", \"Number\", \"Alpha\"]:\n",
    "            results.append(word[0])\n",
    "    return results"
   ]
  },
  {
   "cell_type": "code",
   "execution_count": null,
   "metadata": {},
   "outputs": [],
   "source": [
    "with open('original_data.csv') as file:\n",
    "    csv_data = []\n",
    "    for line in file.readlines():\n",
    "        csv_data.append(line.split(','))\n",
    "\n",
    "regular_data = [[\"\" for x in range(2)] for y in range(len(csv_data))]\n",
    "regular_label = [[\"\" for x in range(2)] for y in range(len(csv_data))]\n",
    "print(len(csv_data))\n",
    "\n",
    "for i in range(1, len(csv_data)):\n",
    "    regular_data[i][0] = csv_data[i][2] #mpname\n",
    "    regular_data[i][0] += csv_data[i][3] #mpstand\n",
    "    regular_data[i][1] = csv_data[i][3] #mpstand\n",
    "    \n",
    "    regular_label[i][0] = split(csv_data[i][6]) #pname\n",
    "    regular_label[i][0] += split(csv_data[i][10]) #pmake\n",
    "    regular_label[i][1] = csv_data[i][10] #pmake"
   ]
  }
 ],
 "metadata": {
  "kernelspec": {
   "display_name": "Python 3",
   "language": "python",
   "name": "python3"
  },
  "language_info": {
   "codemirror_mode": {
    "name": "ipython",
    "version": 3
   },
   "file_extension": ".py",
   "mimetype": "text/x-python",
   "name": "python",
   "nbconvert_exporter": "python",
   "pygments_lexer": "ipython3",
   "version": "3.7.3"
  }
 },
 "nbformat": 4,
 "nbformat_minor": 2
}
